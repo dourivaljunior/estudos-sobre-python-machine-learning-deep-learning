{
  "nbformat": 4,
  "nbformat_minor": 0,
  "metadata": {
    "colab": {
      "name": "metricas_de_avaliacao_modelo_classificacao.ipynb",
      "provenance": [],
      "collapsed_sections": [],
      "authorship_tag": "ABX9TyNUPZ+YZUGk/ijulfVOTpcY",
      "include_colab_link": true
    },
    "kernelspec": {
      "name": "python3",
      "display_name": "Python 3"
    },
    "language_info": {
      "name": "python"
    }
  },
  "cells": [
    {
      "cell_type": "markdown",
      "metadata": {
        "id": "view-in-github",
        "colab_type": "text"
      },
      "source": [
        "<a href=\"https://colab.research.google.com/github/dourivaljunior/estudos-sobre-python-machine-learning-deep-learning/blob/main/metricas_de_avaliacao_modelo_classificacao.ipynb\" target=\"_parent\"><img src=\"https://colab.research.google.com/assets/colab-badge.svg\" alt=\"Open In Colab\"/></a>"
      ]
    },
    {
      "cell_type": "code",
      "execution_count": 90,
      "metadata": {
        "id": "h_juLIY3nEfJ"
      },
      "outputs": [],
      "source": [
        "#Como avaliar seu modelo de classificação\n",
        "# alguns scripts para serem usados em machine learning"
      ]
    },
    {
      "cell_type": "code",
      "source": [
        "import numpy as np\n",
        "import pandas as pd\n",
        "import math\n",
        "import sklearn\n",
        "import matplotlib.pyplot as plt\n",
        "import seaborn as sns"
      ],
      "metadata": {
        "id": "K03TpyeTh-9J"
      },
      "execution_count": null,
      "outputs": []
    },
    {
      "cell_type": "code",
      "source": [
        "from google.colab import files \n",
        "uploaded = files.upload()"
      ],
      "metadata": {
        "colab": {
          "resources": {
            "http://localhost:8080/nbextensions/google.colab/files.js": {
              "data": "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",
              "ok": true,
              "headers": [
                [
                  "content-type",
                  "application/javascript"
                ]
              ],
              "status": 200,
              "status_text": ""
            }
          },
          "base_uri": "https://localhost:8080/",
          "height": 73
        },
        "id": "JkPMC8EwDSHN",
        "outputId": "bbf3f643-a15e-43da-fb13-0dd16f82ad75"
      },
      "execution_count": null,
      "outputs": [
        {
          "output_type": "display_data",
          "data": {
            "text/plain": [
              "<IPython.core.display.HTML object>"
            ],
            "text/html": [
              "\n",
              "     <input type=\"file\" id=\"files-999458ad-cfb0-4092-8152-0ba1389d2494\" name=\"files[]\" multiple disabled\n",
              "        style=\"border:none\" />\n",
              "     <output id=\"result-999458ad-cfb0-4092-8152-0ba1389d2494\">\n",
              "      Upload widget is only available when the cell has been executed in the\n",
              "      current browser session. Please rerun this cell to enable.\n",
              "      </output>\n",
              "      <script src=\"/nbextensions/google.colab/files.js\"></script> "
            ]
          },
          "metadata": {}
        },
        {
          "output_type": "stream",
          "name": "stdout",
          "text": [
            "Saving teste.csv to teste (4).csv\n"
          ]
        }
      ]
    },
    {
      "cell_type": "code",
      "source": [
        "df = pd.read_csv('teste.csv')"
      ],
      "metadata": {
        "id": "Cxadx3IdDxx5"
      },
      "execution_count": null,
      "outputs": []
    },
    {
      "cell_type": "code",
      "source": [
        "from sklearn.model_selection import train_test_split\n",
        "cols=['Credit_History','LoanAmount','Property_Area','ApplicantIncome']\n",
        "X = df[cols]\n",
        "y = df['Loan_Status']\n",
        "X_train, X_test, y_train, y_test = train_test_split(X, y, test_size = 0.25)\n",
        "print('O dataset de treino possui {} dados e o de treino {} dados.'.format(X_train.shape[0], X_test.shape[0]))"
      ],
      "metadata": {
        "id": "CP9-CcdinKCv",
        "colab": {
          "base_uri": "https://localhost:8080/"
        },
        "outputId": "97b6b072-1715-48af-aa7a-8218003e031a"
      },
      "execution_count": 91,
      "outputs": [
        {
          "output_type": "stream",
          "name": "stdout",
          "text": [
            "O dataset de treino possui 633 dados e o de treino 211 dados.\n"
          ]
        }
      ]
    },
    {
      "cell_type": "code",
      "source": [
        "from sklearn.tree import DecisionTreeClassifier\n",
        "from sklearn.metrics import accuracy_score\n",
        "#avaliar o melhor valor de max_depth\n",
        "model = DecisionTreeClassifier(max_depth=5)\n",
        "model.fit(X_train, y_train)\n",
        "predict = model.predict(X_test)\n",
        "accuracy = accuracy_score(y_test, predict) * 100\n",
        "print (\"A acurácia foi de {:.2f}%.\".format(accuracy))\n"
      ],
      "metadata": {
        "id": "NfwQygjOnKQU",
        "colab": {
          "base_uri": "https://localhost:8080/"
        },
        "outputId": "c543d53f-7f6e-46c1-a862-38364a011c85"
      },
      "execution_count": 92,
      "outputs": [
        {
          "output_type": "stream",
          "name": "stdout",
          "text": [
            "A acurácia foi de 73.46%.\n"
          ]
        }
      ]
    },
    {
      "cell_type": "code",
      "source": [
        "#usar dados novos para fazer previsões novas para o modelo.\n",
        "#para fazer essa aprte aqui você deve pegar uma parte dos dados e guardar, por exemplo, 10% dos dados originais para essa parte.\n",
        "X_news = df[cols]\n",
        "y_news = df['Loan_Status']\n",
        "predict = model.predict(X_news)\n",
        "accuracy = accuracy_score(y_news, predict) * 100\n",
        "print (\"A acurácia foi de {:.2f}%.\".format(accuracy))"
      ],
      "metadata": {
        "id": "65wnl2l3nKU2",
        "colab": {
          "base_uri": "https://localhost:8080/"
        },
        "outputId": "aa5799a8-6fbc-46c6-abcb-2959ed418c0f"
      },
      "execution_count": 93,
      "outputs": [
        {
          "output_type": "stream",
          "name": "stdout",
          "text": [
            "A acurácia foi de 77.73%.\n"
          ]
        }
      ]
    },
    {
      "cell_type": "code",
      "source": [
        "#usando o método da validação cruzada\n",
        "from sklearn.model_selection import cross_val_score\n",
        "model = DecisionTreeClassifier(max_depth=5)  #alterar o parâmetro max_depth\n",
        "results = cross_val_score(model, X_train, \n",
        "                          y_train, cv = 5, scoring = 'accuracy')\n",
        "def intervalo(results):\n",
        "    mean = results.mean()\n",
        "    dv = results.std()\n",
        "    print('Acurácia média: {:.2f}%'.format(mean*100))\n",
        "    print('Intervalo de acurácia: [{:.2f}% ~ {:.2f}%]'\n",
        "           .format((mean - 2*dv)*100, (mean + 2*dv)*100))\n",
        "intervalo(results)"
      ],
      "metadata": {
        "id": "QFImCKZknKZ4",
        "colab": {
          "base_uri": "https://localhost:8080/"
        },
        "outputId": "c22fc070-2210-4e0f-da78-dfcc8e3ac239"
      },
      "execution_count": 95,
      "outputs": [
        {
          "output_type": "stream",
          "name": "stdout",
          "text": [
            "Acurácia média: 72.99%\n",
            "Intervalo de acurácia: [67.60% ~ 78.38%]\n"
          ]
        }
      ]
    },
    {
      "cell_type": "code",
      "source": [
        "#fazendo uma validação estratificada\n",
        "from sklearn.model_selection import StratifiedKFold\n",
        "cv = StratifiedKFold(n_splits = 4, shuffle = True)\n",
        "model = DecisionTreeClassifier(max_depth=3)\n",
        "results = cross_val_score(model, X_train, y_train, cv = cv)\n",
        "intervalo(results)"
      ],
      "metadata": {
        "id": "8XkJZRSanKsm",
        "colab": {
          "base_uri": "https://localhost:8080/"
        },
        "outputId": "62d5d4ea-ea48-46b1-8f1d-77f24424ebda"
      },
      "execution_count": 101,
      "outputs": [
        {
          "output_type": "stream",
          "name": "stdout",
          "text": [
            "Acurácia média: 69.98%\n",
            "Intervalo de acurácia: [63.88% ~ 76.07%]\n"
          ]
        }
      ]
    },
    {
      "cell_type": "code",
      "source": [
        "#fazendo o estudo da exatidão de vários modelos ao mesmo tempo\n",
        "from sklearn.svm import SVC\n",
        "from sklearn.linear_model import LogisticRegression\n",
        "from sklearn.ensemble import RandomForestClassifier\n",
        "cv = StratifiedKFold(n_splits = 2, shuffle = True)\n",
        "model = DecisionTreeClassifier(max_depth=3)\n",
        "model_svc = SVC()\n",
        "model_log = LogisticRegression(solver='liblinear')\n",
        "model_rand = RandomForestClassifier(n_estimators=100)\n",
        "models = [model, model_svc, model_log, model_rand]\n",
        "name = ['Árvore de Decisão', 'SVC', \n",
        "        'Regressão Logística', 'Random Forest']\n",
        "count = 0\n",
        "for item in models:\n",
        "    results = cross_val_score(item, X_train, y_train, cv = cv, scoring = 'accuracy')\n",
        "    mean = results.mean()\n",
        "    dv = results.std()\n",
        "    print('Acurácia média - Modelo {}: {:.2f}%'.format(name[count], mean*100))\n",
        "    print('Intervalo de acurácia - Modelo {}: [{:.2f}% ~ {:.2f}%]\\n'.format(name[count],(mean - 2*dv)*100, (mean + 2*dv)*100))\n",
        "    count += 1"
      ],
      "metadata": {
        "id": "ywMGGtsKnKxO",
        "colab": {
          "base_uri": "https://localhost:8080/"
        },
        "outputId": "b00c67e3-bb1b-4c65-a6d7-b1d51f166e05"
      },
      "execution_count": 103,
      "outputs": [
        {
          "output_type": "stream",
          "name": "stdout",
          "text": [
            "Acurácia média - Modelo Árvore de Decisão: 68.56%\n",
            "Intervalo de acurácia - Modelo Árvore de Decisão: [66.88% ~ 70.24%]\n",
            "\n",
            "Acurácia média - Modelo SVC: 72.19%\n",
            "Intervalo de acurácia - Modelo SVC: [68.95% ~ 75.44%]\n",
            "\n",
            "Acurácia média - Modelo Regressão Logística: 69.51%\n",
            "Intervalo de acurácia - Modelo Regressão Logística: [69.29% ~ 69.73%]\n",
            "\n",
            "Acurácia média - Modelo Random Forest: 79.94%\n",
            "Intervalo de acurácia - Modelo Random Forest: [78.92% ~ 80.95%]\n",
            "\n"
          ]
        }
      ]
    },
    {
      "cell_type": "code",
      "source": [
        "#precision\n",
        "def intervalo_prec(results):\n",
        "    mean = results.mean()\n",
        "    dv = results.std()\n",
        "    print('Precisão média: {:.2f}%'.format(mean*100))\n",
        "    print('Intervalo de Precisão: [{:.2f}% ~ {:.2f}%]'.format((mean - 2*dv)*100, (mean + 2*dv)*100))\n",
        "cv = StratifiedKFold(n_splits = 3, shuffle = True)\n",
        "model = LogisticRegression(solver='liblinear')\n",
        "results = cross_val_score(model, X_train, y_train, cv = cv,scoring = 'precision')\n",
        "intervalo_prec(results)"
      ],
      "metadata": {
        "id": "FOP0GJmo1K8k",
        "colab": {
          "base_uri": "https://localhost:8080/"
        },
        "outputId": "d13874e3-dcf4-4fde-c704-1d4ac3a978e8"
      },
      "execution_count": 110,
      "outputs": [
        {
          "output_type": "stream",
          "name": "stdout",
          "text": [
            "Precisão média: 62.45%\n",
            "Intervalo de Precisão: [61.71% ~ 63.19%]\n"
          ]
        }
      ]
    },
    {
      "cell_type": "code",
      "source": [
        "#recall\n",
        "def intervalo_recall(results):\n",
        "    mean = results.mean()\n",
        "    dv = results.std()\n",
        "    print('Recall médio: {:.2f}%'.format(mean*100))\n",
        "    print('Intervalo de Recall: [{:.2f}% ~ {:.2f}%]'.format((mean - 2*dv)*100, (mean + 2*dv)*100))\n",
        "cv = StratifiedKFold(n_splits = 3, shuffle = True)\n",
        "model = LogisticRegression(solver='liblinear')\n",
        "results = cross_val_score(model, X_train, y_train, cv = cv, scoring = 'recall')\n",
        "intervalo_recall(results)"
      ],
      "metadata": {
        "id": "XBgZqyUK1LRR",
        "colab": {
          "base_uri": "https://localhost:8080/"
        },
        "outputId": "7675a237-06fa-4bb5-93be-3c169cbf6ef2"
      },
      "execution_count": 118,
      "outputs": [
        {
          "output_type": "stream",
          "name": "stdout",
          "text": [
            "Recall médio: 96.81%\n",
            "Intervalo de Recall: [94.45% ~ 99.17%]\n"
          ]
        }
      ]
    },
    {
      "cell_type": "code",
      "source": [
        "#fazendo a matriz de confusão\n",
        "from sklearn.model_selection import cross_val_predict\n",
        "from sklearn.metrics import confusion_matrix\n",
        "cv = StratifiedKFold(n_splits = 5, shuffle = True)\n",
        "model = LogisticRegression(solver='liblinear')\n",
        "y_pred = cross_val_predict(model, X_train, y_train, cv = cv)\n",
        "fig, ax = plt.subplots()\n",
        "sns.heatmap(confusion_matrix(y_train, y_pred), annot=True,ax=ax, fmt='d', cmap='Reds')\n",
        "ax.set_title(\"Matriz de Confusão\", fontsize=18)\n",
        "ax.set_ylabel(\"True label\")\n",
        "ax.set_xlabel(\"Predicted Label\")\n",
        "plt.tight_layout()"
      ],
      "metadata": {
        "id": "4XFOC3EZnLE_",
        "colab": {
          "base_uri": "https://localhost:8080/",
          "height": 297
        },
        "outputId": "ec269e5c-fbbc-45a0-c67f-836a6dc2b89a"
      },
      "execution_count": 119,
      "outputs": [
        {
          "output_type": "display_data",
          "data": {
            "text/plain": [
              "<Figure size 432x288 with 2 Axes>"
            ],
            "image/png": "[encoded data removed]"
          },
          "metadata": {
            "needs_background": "light"
          }
        }
      ]
    },
    {
      "cell_type": "code",
      "source": [
        "#relatório do modelo\n",
        "from sklearn.metrics import classification_report\n",
        "# relatório do modelo\n",
        "print('Relatório de classificação:\\n', classification_report(y_train, y_pred, digits=4))"
      ],
      "metadata": {
        "id": "xw1Jj5W8nLKw",
        "colab": {
          "base_uri": "https://localhost:8080/"
        },
        "outputId": "860cc829-b531-4246-c31f-35b7eb1f14d9"
      },
      "execution_count": 120,
      "outputs": [
        {
          "output_type": "stream",
          "name": "stdout",
          "text": [
            "Relatório de classificação:\n",
            "               precision    recall  f1-score   support\n",
            "\n",
            "         0.0     0.9448    0.4281    0.5892       320\n",
            "         1.0     0.6250    0.9744    0.7615       313\n",
            "\n",
            "    accuracy                         0.6983       633\n",
            "   macro avg     0.7849    0.7013    0.6754       633\n",
            "weighted avg     0.7867    0.6983    0.6744       633\n",
            "\n"
          ]
        }
      ]
    },
    {
      "cell_type": "code",
      "source": [
        "from sklearn.model_selection import cross_val_predict\n",
        "from sklearn.metrics import precision_recall_curve\n",
        "cv = StratifiedKFold(n_splits = 5, shuffle = True)\n",
        "model = LogisticRegression(solver='liblinear')\n",
        "y_scores = cross_val_predict(model, X_train, y_train, cv = cv,\n",
        "                             method = 'decision_function')\n",
        "precisions, recalls, thresholds = precision_recall_curve(y_train,  \n",
        "                                                         y_scores)\n",
        "fig, ax = plt.subplots(figsize = (12,3))\n",
        "plt.plot(thresholds, precisions[:-1], 'b--', label = 'Precisão')\n",
        "plt.plot(thresholds, recalls[:-1], 'g-', label = 'Recall')\n",
        "plt.xlabel('Threshold')\n",
        "plt.legend(loc = 'center right')\n",
        "plt.ylim([0,1])\n",
        "plt.title('Precisão x Recall', fontsize = 14)\n",
        "plt.show()"
      ],
      "metadata": {
        "colab": {
          "base_uri": "https://localhost:8080/",
          "height": 242
        },
        "id": "IfN3oJyKW2XL",
        "outputId": "6c29f22c-2aa4-4520-deec-04f13627c947"
      },
      "execution_count": 121,
      "outputs": [
        {
          "output_type": "display_data",
          "data": {
            "text/plain": [
              "<Figure size 864x216 with 1 Axes>"
            ],
            "image/png": "[encoded data removed]"
          },
          "metadata": {
            "needs_background": "light"
          }
        }
      ]
    },
    {
      "cell_type": "code",
      "source": [
        "#curva das características operacionais do receptor (Receiver operating characteristic — ROC) \n",
        "from sklearn.metrics import roc_curve\n",
        "fpr, tpr, thresholds = roc_curve(y_train, y_scores)\n",
        "fig, ax = plt.subplots(figsize = (12,4))\n",
        "plt.plot(fpr, tpr, linewidth=2, label = 'Logistic Regression')\n",
        "plt.plot([0,1], [0,1], 'k--')\n",
        "plt.axis([0, 1, 0, 1])\n",
        "plt.xlabel('Taxa de Falsos Positivos')\n",
        "plt.ylabel('Taxa de Verdadeiros Positivos')\n",
        "plt.legend(loc = 'lower right')\n",
        "plt.title('Curva ROC', fontsize = 14)\n",
        "plt.show()"
      ],
      "metadata": {
        "id": "tqRnwK8VnLPj",
        "colab": {
          "base_uri": "https://localhost:8080/",
          "height": 296
        },
        "outputId": "e67f0847-cb7e-4c98-d9ce-aee582ba36e4"
      },
      "execution_count": 122,
      "outputs": [
        {
          "output_type": "display_data",
          "data": {
            "text/plain": [
              "<Figure size 864x288 with 1 Axes>"
            ],
            "image/png": "[encoded data removed]"
          },
          "metadata": {
            "needs_background": "light"
          }
        }
      ]
    },
    {
      "cell_type": "code",
      "source": [
        "from sklearn.metrics import roc_auc_score\n",
        "print('Área sob a curva ROC: {:.4f}'\n",
        "      .format(roc_auc_score(y_train, y_scores)))"
      ],
      "metadata": {
        "id": "lwLT-BrW1ijL",
        "colab": {
          "base_uri": "https://localhost:8080/"
        },
        "outputId": "e620a173-178c-4a89-d724-edc9b272e76c"
      },
      "execution_count": 123,
      "outputs": [
        {
          "output_type": "stream",
          "name": "stdout",
          "text": [
            "Área sob a curva ROC: 0.7362\n"
          ]
        }
      ]
    },
    {
      "cell_type": "code",
      "source": [
        "#fazendo o teste\n",
        "final_model = LogisticRegression(solver='liblinear')\n",
        "final_model.fit(X_train, y_train)\n",
        "y_pred = final_model.predict(X_test)\n",
        "y_prob = final_model.predict_proba(X_test)\n",
        "# imprimir relatório de classificação\n",
        "print(\"Relatório de Classificação:\\n\", \n",
        "       classification_report(y_test, y_pred, digits=4))\n",
        "# imprimir a área sob a curva\n",
        "print(\"AUC: {:.4f}\\n\".format(roc_auc_score(y_test,y_prob[:,1])))"
      ],
      "metadata": {
        "id": "khZphGvK1ivC",
        "colab": {
          "base_uri": "https://localhost:8080/"
        },
        "outputId": "5abcec87-88ff-4526-e30a-77385c7a3587"
      },
      "execution_count": 124,
      "outputs": [
        {
          "output_type": "stream",
          "name": "stdout",
          "text": [
            "Relatório de Classificação:\n",
            "               precision    recall  f1-score   support\n",
            "\n",
            "         0.0     0.9655    0.5490    0.7000       102\n",
            "         1.0     0.6993    0.9817    0.8168       109\n",
            "\n",
            "    accuracy                         0.7725       211\n",
            "   macro avg     0.8324    0.7653    0.7584       211\n",
            "weighted avg     0.8280    0.7725    0.7603       211\n",
            "\n",
            "AUC: 0.7612\n",
            "\n"
          ]
        }
      ]
    },
    {
      "cell_type": "code",
      "source": [
        "from sklearn.model_selection import StratifiedKFold\n",
        "from sklearn.model_selection import cross_val_score\n",
        "from sklearn.tree import DecisionTreeClassifier \n",
        "from sklearn.linear_model import LogisticRegression \n",
        "from sklearn.ensemble import RandomForestClassifier\n",
        "from sklearn.metrics import precision_score\n",
        "cv = StratifiedKFold(n_splits = 5, shuffle = True)\n",
        "model1 = LogisticRegression()\n",
        "model2 = DecisionTreeClassifier(max_depth=3) \n",
        "model3 = RandomForestClassifier(n_estimators=100)\n",
        "results = cross_val_score(model3, X_train, y_train, cv = cv)\n",
        "print(results)"
      ],
      "metadata": {
        "id": "znTUaW2P1i5W",
        "colab": {
          "base_uri": "https://localhost:8080/"
        },
        "outputId": "5b70bfc8-d755-47c6-b9ef-c93563974896"
      },
      "execution_count": 125,
      "outputs": [
        {
          "output_type": "stream",
          "name": "stdout",
          "text": [
            "[0.82677165 0.84251969 0.85826772 0.80952381 0.80952381]\n"
          ]
        }
      ]
    },
    {
      "cell_type": "code",
      "source": [
        "#FIM"
      ],
      "metadata": {
        "id": "sCBwczrc1jEw"
      },
      "execution_count": null,
      "outputs": []
    }
  ]
}